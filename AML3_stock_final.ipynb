{
  "nbformat": 4,
  "nbformat_minor": 0,
  "metadata": {
    "colab": {
      "provenance": []
    },
    "kernelspec": {
      "name": "python3",
      "display_name": "Python 3"
    },
    "language_info": {
      "name": "python"
    }
  },
  "cells": [
    {
      "cell_type": "code",
      "execution_count": null,
      "metadata": {
        "id": "zy6WrZr8xq1L"
      },
      "outputs": [],
      "source": [
        "import pandas as pd\n",
        "import numpy as np\n",
        "import matplotlib.pyplot as plt\n",
        "from sklearn.preprocessing import MinMaxScaler\n",
        "from sklearn.metrics import mean_squared_error, r2_score\n",
        "import tensorflow as tf\n",
        "from tensorflow.keras.models import Sequential\n",
        "from tensorflow.keras.layers import GRU, LSTM, Conv1D, MaxPooling1D, Dense, Dropout\n"
      ]
    },
    {
      "cell_type": "code",
      "source": [
        "train = pd.read_csv('train.csv')\n",
        "test = pd.read_csv('/content/test_without_label.csv')\n",
        "val = pd.read_csv('val.csv')"
      ],
      "metadata": {
        "id": "utGF7RyPyUug"
      },
      "execution_count": null,
      "outputs": []
    },
    {
      "cell_type": "code",
      "source": [
        "train.head()"
      ],
      "metadata": {
        "colab": {
          "base_uri": "https://localhost:8080/",
          "height": 206
        },
        "id": "gRSN_hLAzgCv",
        "outputId": "ed6273bf-d922-4297-c106-a0eeb5cd4b49"
      },
      "execution_count": null,
      "outputs": [
        {
          "output_type": "execute_result",
          "data": {
            "text/plain": [
              "         Date  Price  Open  High   Low    Vol.\n",
              "0  2003-12-31   1.04  1.05  1.06  1.03   6.11M\n",
              "1  2004-01-04   1.04  1.05  1.05  1.02   3.41M\n",
              "2  2004-01-05   1.04  1.03  1.05  1.02   4.41M\n",
              "3  2004-01-06   1.05  1.04  1.07  1.03  16.22M\n",
              "4  2004-01-08   1.05  1.09  1.09  1.04  12.94M"
            ],
            "text/html": [
              "\n",
              "  <div id=\"df-23024214-825a-4791-8d78-f2cbac4ed0bf\" class=\"colab-df-container\">\n",
              "    <div>\n",
              "<style scoped>\n",
              "    .dataframe tbody tr th:only-of-type {\n",
              "        vertical-align: middle;\n",
              "    }\n",
              "\n",
              "    .dataframe tbody tr th {\n",
              "        vertical-align: top;\n",
              "    }\n",
              "\n",
              "    .dataframe thead th {\n",
              "        text-align: right;\n",
              "    }\n",
              "</style>\n",
              "<table border=\"1\" class=\"dataframe\">\n",
              "  <thead>\n",
              "    <tr style=\"text-align: right;\">\n",
              "      <th></th>\n",
              "      <th>Date</th>\n",
              "      <th>Price</th>\n",
              "      <th>Open</th>\n",
              "      <th>High</th>\n",
              "      <th>Low</th>\n",
              "      <th>Vol.</th>\n",
              "    </tr>\n",
              "  </thead>\n",
              "  <tbody>\n",
              "    <tr>\n",
              "      <th>0</th>\n",
              "      <td>2003-12-31</td>\n",
              "      <td>1.04</td>\n",
              "      <td>1.05</td>\n",
              "      <td>1.06</td>\n",
              "      <td>1.03</td>\n",
              "      <td>6.11M</td>\n",
              "    </tr>\n",
              "    <tr>\n",
              "      <th>1</th>\n",
              "      <td>2004-01-04</td>\n",
              "      <td>1.04</td>\n",
              "      <td>1.05</td>\n",
              "      <td>1.05</td>\n",
              "      <td>1.02</td>\n",
              "      <td>3.41M</td>\n",
              "    </tr>\n",
              "    <tr>\n",
              "      <th>2</th>\n",
              "      <td>2004-01-05</td>\n",
              "      <td>1.04</td>\n",
              "      <td>1.03</td>\n",
              "      <td>1.05</td>\n",
              "      <td>1.02</td>\n",
              "      <td>4.41M</td>\n",
              "    </tr>\n",
              "    <tr>\n",
              "      <th>3</th>\n",
              "      <td>2004-01-06</td>\n",
              "      <td>1.05</td>\n",
              "      <td>1.04</td>\n",
              "      <td>1.07</td>\n",
              "      <td>1.03</td>\n",
              "      <td>16.22M</td>\n",
              "    </tr>\n",
              "    <tr>\n",
              "      <th>4</th>\n",
              "      <td>2004-01-08</td>\n",
              "      <td>1.05</td>\n",
              "      <td>1.09</td>\n",
              "      <td>1.09</td>\n",
              "      <td>1.04</td>\n",
              "      <td>12.94M</td>\n",
              "    </tr>\n",
              "  </tbody>\n",
              "</table>\n",
              "</div>\n",
              "    <div class=\"colab-df-buttons\">\n",
              "\n",
              "  <div class=\"colab-df-container\">\n",
              "    <button class=\"colab-df-convert\" onclick=\"convertToInteractive('df-23024214-825a-4791-8d78-f2cbac4ed0bf')\"\n",
              "            title=\"Convert this dataframe to an interactive table.\"\n",
              "            style=\"display:none;\">\n",
              "\n",
              "  <svg xmlns=\"http://www.w3.org/2000/svg\" height=\"24px\" viewBox=\"0 -960 960 960\">\n",
              "    <path d=\"M120-120v-720h720v720H120Zm60-500h600v-160H180v160Zm220 220h160v-160H400v160Zm0 220h160v-160H400v160ZM180-400h160v-160H180v160Zm440 0h160v-160H620v160ZM180-180h160v-160H180v160Zm440 0h160v-160H620v160Z\"/>\n",
              "  </svg>\n",
              "    </button>\n",
              "\n",
              "  <style>\n",
              "    .colab-df-container {\n",
              "      display:flex;\n",
              "      gap: 12px;\n",
              "    }\n",
              "\n",
              "    .colab-df-convert {\n",
              "      background-color: #E8F0FE;\n",
              "      border: none;\n",
              "      border-radius: 50%;\n",
              "      cursor: pointer;\n",
              "      display: none;\n",
              "      fill: #1967D2;\n",
              "      height: 32px;\n",
              "      padding: 0 0 0 0;\n",
              "      width: 32px;\n",
              "    }\n",
              "\n",
              "    .colab-df-convert:hover {\n",
              "      background-color: #E2EBFA;\n",
              "      box-shadow: 0px 1px 2px rgba(60, 64, 67, 0.3), 0px 1px 3px 1px rgba(60, 64, 67, 0.15);\n",
              "      fill: #174EA6;\n",
              "    }\n",
              "\n",
              "    .colab-df-buttons div {\n",
              "      margin-bottom: 4px;\n",
              "    }\n",
              "\n",
              "    [theme=dark] .colab-df-convert {\n",
              "      background-color: #3B4455;\n",
              "      fill: #D2E3FC;\n",
              "    }\n",
              "\n",
              "    [theme=dark] .colab-df-convert:hover {\n",
              "      background-color: #434B5C;\n",
              "      box-shadow: 0px 1px 3px 1px rgba(0, 0, 0, 0.15);\n",
              "      filter: drop-shadow(0px 1px 2px rgba(0, 0, 0, 0.3));\n",
              "      fill: #FFFFFF;\n",
              "    }\n",
              "  </style>\n",
              "\n",
              "    <script>\n",
              "      const buttonEl =\n",
              "        document.querySelector('#df-23024214-825a-4791-8d78-f2cbac4ed0bf button.colab-df-convert');\n",
              "      buttonEl.style.display =\n",
              "        google.colab.kernel.accessAllowed ? 'block' : 'none';\n",
              "\n",
              "      async function convertToInteractive(key) {\n",
              "        const element = document.querySelector('#df-23024214-825a-4791-8d78-f2cbac4ed0bf');\n",
              "        const dataTable =\n",
              "          await google.colab.kernel.invokeFunction('convertToInteractive',\n",
              "                                                    [key], {});\n",
              "        if (!dataTable) return;\n",
              "\n",
              "        const docLinkHtml = 'Like what you see? Visit the ' +\n",
              "          '<a target=\"_blank\" href=https://colab.research.google.com/notebooks/data_table.ipynb>data table notebook</a>'\n",
              "          + ' to learn more about interactive tables.';\n",
              "        element.innerHTML = '';\n",
              "        dataTable['output_type'] = 'display_data';\n",
              "        await google.colab.output.renderOutput(dataTable, element);\n",
              "        const docLink = document.createElement('div');\n",
              "        docLink.innerHTML = docLinkHtml;\n",
              "        element.appendChild(docLink);\n",
              "      }\n",
              "    </script>\n",
              "  </div>\n",
              "\n",
              "\n",
              "    <div id=\"df-65f7bec3-e758-4d17-9d4f-00ecd7205cd2\">\n",
              "      <button class=\"colab-df-quickchart\" onclick=\"quickchart('df-65f7bec3-e758-4d17-9d4f-00ecd7205cd2')\"\n",
              "                title=\"Suggest charts\"\n",
              "                style=\"display:none;\">\n",
              "\n",
              "<svg xmlns=\"http://www.w3.org/2000/svg\" height=\"24px\"viewBox=\"0 0 24 24\"\n",
              "     width=\"24px\">\n",
              "    <g>\n",
              "        <path d=\"M19 3H5c-1.1 0-2 .9-2 2v14c0 1.1.9 2 2 2h14c1.1 0 2-.9 2-2V5c0-1.1-.9-2-2-2zM9 17H7v-7h2v7zm4 0h-2V7h2v10zm4 0h-2v-4h2v4z\"/>\n",
              "    </g>\n",
              "</svg>\n",
              "      </button>\n",
              "\n",
              "<style>\n",
              "  .colab-df-quickchart {\n",
              "      --bg-color: #E8F0FE;\n",
              "      --fill-color: #1967D2;\n",
              "      --hover-bg-color: #E2EBFA;\n",
              "      --hover-fill-color: #174EA6;\n",
              "      --disabled-fill-color: #AAA;\n",
              "      --disabled-bg-color: #DDD;\n",
              "  }\n",
              "\n",
              "  [theme=dark] .colab-df-quickchart {\n",
              "      --bg-color: #3B4455;\n",
              "      --fill-color: #D2E3FC;\n",
              "      --hover-bg-color: #434B5C;\n",
              "      --hover-fill-color: #FFFFFF;\n",
              "      --disabled-bg-color: #3B4455;\n",
              "      --disabled-fill-color: #666;\n",
              "  }\n",
              "\n",
              "  .colab-df-quickchart {\n",
              "    background-color: var(--bg-color);\n",
              "    border: none;\n",
              "    border-radius: 50%;\n",
              "    cursor: pointer;\n",
              "    display: none;\n",
              "    fill: var(--fill-color);\n",
              "    height: 32px;\n",
              "    padding: 0;\n",
              "    width: 32px;\n",
              "  }\n",
              "\n",
              "  .colab-df-quickchart:hover {\n",
              "    background-color: var(--hover-bg-color);\n",
              "    box-shadow: 0 1px 2px rgba(60, 64, 67, 0.3), 0 1px 3px 1px rgba(60, 64, 67, 0.15);\n",
              "    fill: var(--button-hover-fill-color);\n",
              "  }\n",
              "\n",
              "  .colab-df-quickchart-complete:disabled,\n",
              "  .colab-df-quickchart-complete:disabled:hover {\n",
              "    background-color: var(--disabled-bg-color);\n",
              "    fill: var(--disabled-fill-color);\n",
              "    box-shadow: none;\n",
              "  }\n",
              "\n",
              "  .colab-df-spinner {\n",
              "    border: 2px solid var(--fill-color);\n",
              "    border-color: transparent;\n",
              "    border-bottom-color: var(--fill-color);\n",
              "    animation:\n",
              "      spin 1s steps(1) infinite;\n",
              "  }\n",
              "\n",
              "  @keyframes spin {\n",
              "    0% {\n",
              "      border-color: transparent;\n",
              "      border-bottom-color: var(--fill-color);\n",
              "      border-left-color: var(--fill-color);\n",
              "    }\n",
              "    20% {\n",
              "      border-color: transparent;\n",
              "      border-left-color: var(--fill-color);\n",
              "      border-top-color: var(--fill-color);\n",
              "    }\n",
              "    30% {\n",
              "      border-color: transparent;\n",
              "      border-left-color: var(--fill-color);\n",
              "      border-top-color: var(--fill-color);\n",
              "      border-right-color: var(--fill-color);\n",
              "    }\n",
              "    40% {\n",
              "      border-color: transparent;\n",
              "      border-right-color: var(--fill-color);\n",
              "      border-top-color: var(--fill-color);\n",
              "    }\n",
              "    60% {\n",
              "      border-color: transparent;\n",
              "      border-right-color: var(--fill-color);\n",
              "    }\n",
              "    80% {\n",
              "      border-color: transparent;\n",
              "      border-right-color: var(--fill-color);\n",
              "      border-bottom-color: var(--fill-color);\n",
              "    }\n",
              "    90% {\n",
              "      border-color: transparent;\n",
              "      border-bottom-color: var(--fill-color);\n",
              "    }\n",
              "  }\n",
              "</style>\n",
              "\n",
              "      <script>\n",
              "        async function quickchart(key) {\n",
              "          const quickchartButtonEl =\n",
              "            document.querySelector('#' + key + ' button');\n",
              "          quickchartButtonEl.disabled = true;  // To prevent multiple clicks.\n",
              "          quickchartButtonEl.classList.add('colab-df-spinner');\n",
              "          try {\n",
              "            const charts = await google.colab.kernel.invokeFunction(\n",
              "                'suggestCharts', [key], {});\n",
              "          } catch (error) {\n",
              "            console.error('Error during call to suggestCharts:', error);\n",
              "          }\n",
              "          quickchartButtonEl.classList.remove('colab-df-spinner');\n",
              "          quickchartButtonEl.classList.add('colab-df-quickchart-complete');\n",
              "        }\n",
              "        (() => {\n",
              "          let quickchartButtonEl =\n",
              "            document.querySelector('#df-65f7bec3-e758-4d17-9d4f-00ecd7205cd2 button');\n",
              "          quickchartButtonEl.style.display =\n",
              "            google.colab.kernel.accessAllowed ? 'block' : 'none';\n",
              "        })();\n",
              "      </script>\n",
              "    </div>\n",
              "\n",
              "    </div>\n",
              "  </div>\n"
            ],
            "application/vnd.google.colaboratory.intrinsic+json": {
              "type": "dataframe",
              "variable_name": "train",
              "summary": "{\n  \"name\": \"train\",\n  \"rows\": 3640,\n  \"fields\": [\n    {\n      \"column\": \"Date\",\n      \"properties\": {\n        \"dtype\": \"object\",\n        \"num_unique_values\": 3640,\n        \"samples\": [\n          \"2005-08-31\",\n          \"2016-01-27\",\n          \"2011-08-10\"\n        ],\n        \"semantic_type\": \"\",\n        \"description\": \"\"\n      }\n    },\n    {\n      \"column\": \"Price\",\n      \"properties\": {\n        \"dtype\": \"number\",\n        \"std\": 9.788734631720697,\n        \"min\": 1.02,\n        \"max\": 37.88,\n        \"num_unique_values\": 1589,\n        \"samples\": [\n          14.07,\n          5.97,\n          37.88\n        ],\n        \"semantic_type\": \"\",\n        \"description\": \"\"\n      }\n    },\n    {\n      \"column\": \"Open\",\n      \"properties\": {\n        \"dtype\": \"number\",\n        \"std\": 9.781945675820683,\n        \"min\": 1.02,\n        \"max\": 37.89,\n        \"num_unique_values\": 1365,\n        \"samples\": [\n          20.98,\n          17.98,\n          5.78\n        ],\n        \"semantic_type\": \"\",\n        \"description\": \"\"\n      }\n    },\n    {\n      \"column\": \"High\",\n      \"properties\": {\n        \"dtype\": \"number\",\n        \"std\": 9.88361473778279,\n        \"min\": 1.04,\n        \"max\": 38.49,\n        \"num_unique_values\": 1393,\n        \"samples\": [\n          6.52,\n          27.88,\n          13.8\n        ],\n        \"semantic_type\": \"\",\n        \"description\": \"\"\n      }\n    },\n    {\n      \"column\": \"Low\",\n      \"properties\": {\n        \"dtype\": \"number\",\n        \"std\": 9.690041433570139,\n        \"min\": 1.0,\n        \"max\": 37.22,\n        \"num_unique_values\": 1418,\n        \"samples\": [\n          1.79,\n          7.79,\n          14.39\n        ],\n        \"semantic_type\": \"\",\n        \"description\": \"\"\n      }\n    },\n    {\n      \"column\": \"Vol.\",\n      \"properties\": {\n        \"dtype\": \"category\",\n        \"num_unique_values\": 1413,\n        \"samples\": [\n          \"5.45M\",\n          \"7.92M\",\n          \"2.82M\"\n        ],\n        \"semantic_type\": \"\",\n        \"description\": \"\"\n      }\n    }\n  ]\n}"
            }
          },
          "metadata": {},
          "execution_count": 34
        }
      ]
    },
    {
      "cell_type": "code",
      "source": [
        "print(train.info())\n",
        "print(test.info())\n",
        "print(val.info())"
      ],
      "metadata": {
        "colab": {
          "base_uri": "https://localhost:8080/"
        },
        "id": "GzvW7im_z5tL",
        "outputId": "38acb3fe-f96a-4fab-d9b4-ef31aa199908"
      },
      "execution_count": null,
      "outputs": [
        {
          "output_type": "stream",
          "name": "stdout",
          "text": [
            "<class 'pandas.core.frame.DataFrame'>\n",
            "RangeIndex: 3640 entries, 0 to 3639\n",
            "Data columns (total 6 columns):\n",
            " #   Column  Non-Null Count  Dtype  \n",
            "---  ------  --------------  -----  \n",
            " 0   Date    3640 non-null   object \n",
            " 1   Price   3640 non-null   float64\n",
            " 2   Open    3640 non-null   float64\n",
            " 3   High    3640 non-null   float64\n",
            " 4   Low     3640 non-null   float64\n",
            " 5   Vol.    3640 non-null   object \n",
            "dtypes: float64(4), object(2)\n",
            "memory usage: 170.8+ KB\n",
            "None\n",
            "<class 'pandas.core.frame.DataFrame'>\n",
            "RangeIndex: 728 entries, 0 to 727\n",
            "Data columns (total 6 columns):\n",
            " #   Column  Non-Null Count  Dtype  \n",
            "---  ------  --------------  -----  \n",
            " 0   ID      728 non-null    int64  \n",
            " 1   Date    728 non-null    object \n",
            " 2   Open    728 non-null    float64\n",
            " 3   High    728 non-null    float64\n",
            " 4   Low     728 non-null    float64\n",
            " 5   Vol.    728 non-null    object \n",
            "dtypes: float64(3), int64(1), object(2)\n",
            "memory usage: 34.3+ KB\n",
            "None\n",
            "<class 'pandas.core.frame.DataFrame'>\n",
            "RangeIndex: 730 entries, 0 to 729\n",
            "Data columns (total 6 columns):\n",
            " #   Column  Non-Null Count  Dtype  \n",
            "---  ------  --------------  -----  \n",
            " 0   Date    730 non-null    object \n",
            " 1   Price   730 non-null    float64\n",
            " 2   Open    730 non-null    float64\n",
            " 3   High    730 non-null    float64\n",
            " 4   Low     730 non-null    float64\n",
            " 5   Vol.    730 non-null    object \n",
            "dtypes: float64(4), object(2)\n",
            "memory usage: 34.3+ KB\n",
            "None\n"
          ]
        }
      ]
    },
    {
      "cell_type": "code",
      "source": [
        "# convert date to DataTime\n",
        "for df in [train, val, test]:\n",
        "    df['Date'] = pd.to_datetime(df['Date'])\n",
        "train.info()\n",
        "\n"
      ],
      "metadata": {
        "colab": {
          "base_uri": "https://localhost:8080/"
        },
        "id": "akmkTTuBpVvj",
        "outputId": "66390c5a-6614-4628-b507-b39c6b03b09b"
      },
      "execution_count": null,
      "outputs": [
        {
          "output_type": "stream",
          "name": "stdout",
          "text": [
            "<class 'pandas.core.frame.DataFrame'>\n",
            "RangeIndex: 3640 entries, 0 to 3639\n",
            "Data columns (total 6 columns):\n",
            " #   Column  Non-Null Count  Dtype         \n",
            "---  ------  --------------  -----         \n",
            " 0   Date    3640 non-null   datetime64[ns]\n",
            " 1   Price   3640 non-null   float64       \n",
            " 2   Open    3640 non-null   float64       \n",
            " 3   High    3640 non-null   float64       \n",
            " 4   Low     3640 non-null   float64       \n",
            " 5   Vol.    3640 non-null   object        \n",
            "dtypes: datetime64[ns](1), float64(4), object(1)\n",
            "memory usage: 170.8+ KB\n"
          ]
        }
      ]
    },
    {
      "cell_type": "code",
      "source": [
        "# clean the data\n",
        "#1) remove M and K frm the volumn column\n",
        "\n",
        "def clean_volume(vol):\n",
        "    if isinstance(vol, str):\n",
        "        vol = vol.replace(',', '').strip()\n",
        "        if vol.endswith('M'):\n",
        "            return float(vol[:-1]) * 1_000_000\n",
        "        elif vol.endswith('K'):\n",
        "            return float(vol[:-1]) * 1_000\n",
        "        else:\n",
        "            return float(vol)\n",
        "    return vol\n",
        "\n",
        "# Apply to your DataFrames\n",
        "train['Vol.'] = train['Vol.'].apply(clean_volume).astype(float)\n",
        "val['Vol.'] = val['Vol.'].apply(clean_volume).astype(float)\n",
        "test['Vol.'] = test['Vol.'].apply(clean_volume).astype(float)\n",
        "train.head()\n",
        "\n",
        "print(val['Vol.'].dtype)\n"
      ],
      "metadata": {
        "colab": {
          "base_uri": "https://localhost:8080/"
        },
        "id": "NYm_97-xpYPR",
        "outputId": "266c784b-4ce2-4e8f-f725-d8ae11c80d48"
      },
      "execution_count": null,
      "outputs": [
        {
          "output_type": "stream",
          "name": "stdout",
          "text": [
            "float64\n"
          ]
        }
      ]
    },
    {
      "cell_type": "code",
      "source": [
        "def add_technical_features_without_target(df):\n",
        "\n",
        "\n",
        "\n",
        "\n",
        "    # Adding more features like the open-close diff and price range\n",
        "    df['price_range'] = df['High'] - df['Low']\n",
        "    df['average_price'] = (df['High'] + df['Low']) / 2\n",
        "    df['open_close_diff'] = df['Open'] - df['average_price']\n",
        "\n",
        "\n",
        "    return df\n",
        "\n",
        "# Apply feature engineering on train, val, and test sets\n",
        "train = add_technical_features_without_target(train)\n",
        "val = add_technical_features_without_target(val)\n",
        "test = add_technical_features_without_target(test)\n",
        "\n",
        "# Drop rows with NaN values after feature creation\n",
        "\n"
      ],
      "metadata": {
        "id": "O9SgwRfjpeu_"
      },
      "execution_count": null,
      "outputs": []
    },
    {
      "cell_type": "code",
      "source": [
        "\n",
        "from sklearn.preprocessing import MinMaxScaler\n",
        "import pandas as pd\n",
        "\n",
        "# Combine only the training data for fitting the scaler\n",
        "scaler = MinMaxScaler()\n",
        "#num_cols = ['Open', 'High', 'Low', 'Vol.','price_range', 'average_price', 'open_close_diff']\n",
        "num_cols = ['Open', 'High', 'Low', 'Vol.', 'price_range', 'average_price', 'open_close_diff']\n",
        "target_col = ['Price']\n",
        "\n",
        "# Fit scaler only on training data (to avoid data leakage)\n",
        "scaler.fit(train[num_cols])\n",
        "target_scaler = MinMaxScaler()\n",
        "target_scaler.fit(train[target_col])\n",
        "# Scale train, val, test using the fitted scaler\n",
        "train_scaled = train.copy()\n",
        "val_scaled = val.copy()\n",
        "test_scaled = test.copy()\n",
        "\n",
        "train_scaled[num_cols] = scaler.fit_transform(train[num_cols])\n",
        "val_scaled[num_cols] = scaler.transform(val[num_cols])\n",
        "test_scaled[num_cols] = scaler.transform(test[num_cols])\n",
        "\n",
        "train_scaled['Price'] = target_scaler.transform(train[['Price']])  # Scale target column (Price)\n",
        "val_scaled['Price'] = target_scaler.transform(val[['Price']])\n",
        "\n",
        "\n",
        "# Save test IDs for output\n",
        "test_ids = test['ID'].values\n"
      ],
      "metadata": {
        "id": "x8Vo5Basp2wy"
      },
      "execution_count": null,
      "outputs": []
    },
    {
      "cell_type": "code",
      "source": [
        "def create_train_sequences(data, window_size=30, target_col='Price'):\n",
        "    X, y = [], []\n",
        "    feature_cols = [col for col in data.columns if col not in ['Date', 'ID', target_col]]\n",
        "\n",
        "    for i in range(len(data) - window_size - 1):\n",
        "        X.append(data[feature_cols].iloc[i:i + window_size].values)\n",
        "        y.append(data[target_col].iloc[i + window_size])\n",
        "\n",
        "    return np.array(X), np.array(y)\n",
        "\n",
        "def create_test_sequences(data, window_size=30):\n",
        "    X = []\n",
        "    feature_cols = [col for col in data.columns if col not in ['Date', 'ID', 'Price']]\n",
        "\n",
        "    for i in range(len(data) - window_size):\n",
        "        X.append(data[feature_cols].iloc[i:i + window_size].values)\n",
        "\n",
        "    return np.array(X)\n",
        "\n",
        "\n",
        "X_train, y_train = create_train_sequences(train_scaled)\n",
        "X_val, y_val = create_train_sequences(val_scaled)\n",
        "window_size=30\n",
        "test_with_context = pd.concat([val_scaled.tail(window_size), test_scaled], ignore_index=True)\n",
        "\n",
        "# Create test sequences with the full set (now includes all 729 IDs)\n",
        "X_test_full = create_test_sequences(test_with_context)\n",
        "\n"
      ],
      "metadata": {
        "id": "H4YS5hKdt3PE"
      },
      "execution_count": null,
      "outputs": []
    },
    {
      "cell_type": "code",
      "source": [
        "\n",
        "\n",
        "from sklearn.linear_model import LinearRegression\n",
        "from sklearn.metrics import mean_squared_error\n",
        "import numpy as np\n",
        "import tensorflow as tf\n",
        "from tensorflow.keras.optimizers import SGD\n",
        "\n",
        "\n",
        "\n",
        "\n",
        "\n",
        "# 1. Flatten X_train for linear regression\n",
        "X_train_flat = X_train.reshape((X_train.shape[0], -1))\n",
        "X_val_flat = X_val.reshape((X_val.shape[0], -1))\n",
        "\n",
        "# 2. Fit linear regression on training data\n",
        "lin_reg = LinearRegression()\n",
        "lin_reg.fit(X_train_flat, y_train)\n",
        "\n",
        "# 3. Predict and get residuals\n",
        "y_train_pred = lin_reg.predict(X_train_flat)\n",
        "train_residuals = y_train - y_train_pred\n",
        "\n",
        "# 4. Define GRU model for residuals\n",
        "gru_model =  tf.keras.models.Sequential([\n",
        "    tf.keras.layers.GRU(256, activation=tf.nn.relu, return_sequences=True,input_shape=(X_train.shape[1], X_train.shape[2])),\n",
        "    Dropout(0.4),\n",
        "    tf.keras.layers.GRU(200, activation=tf.nn.relu),\n",
        "    tf.keras.layers.Dense(128, activation=tf.nn.relu),\n",
        "    tf.keras.layers.Dense(64, activation=tf.nn.relu),\n",
        "    tf.keras.layers.Dense(32, activation=tf.nn.relu),\n",
        "    tf.keras.layers.Dense(1)\n",
        "])\n",
        "\n",
        "# optimizer = SGD(\n",
        "#     learning_rate=0.01,   # Step size for weight updates\n",
        "#     momentum=0.9,   # Helps accelerate gradients in the right direction\n",
        "#     decay=1e-6,           # Reduces the learning rate over time\n",
        "#     nesterov=True         # Nesterov momentum for better convergence\n",
        "# )\n",
        "optimizer = tf.keras.optimizers.Adam(learning_rate=0.001)\n",
        "\n",
        "gru_model.compile(optimizer=optimizer, loss='mse')\n",
        "\n",
        "\n",
        "\n",
        "\n",
        "\n",
        "\n",
        "\n"
      ],
      "metadata": {
        "colab": {
          "base_uri": "https://localhost:8080/"
        },
        "id": "6kafuiSYuzzu",
        "outputId": "1cf8203f-6347-4224-d38c-b51bc32e8dec"
      },
      "execution_count": null,
      "outputs": [
        {
          "output_type": "stream",
          "name": "stderr",
          "text": [
            "/usr/local/lib/python3.11/dist-packages/keras/src/layers/rnn/rnn.py:200: UserWarning: Do not pass an `input_shape`/`input_dim` argument to a layer. When using Sequential models, prefer using an `Input(shape)` object as the first layer in the model instead.\n",
            "  super().__init__(**kwargs)\n"
          ]
        }
      ]
    },
    {
      "cell_type": "code",
      "source": [
        "from tensorflow.keras.callbacks import EarlyStopping, ReduceLROnPlateau # Import necessary classes\n",
        "\n",
        "# 5. Train GRU on residuals\n",
        "callbacks = [\n",
        "    EarlyStopping(patience=5, restore_best_weights=True),\n",
        "    ReduceLROnPlateau(factor=0.5, patience=3)\n",
        "]\n",
        "history = gru_model.fit(X_train, train_residuals, epochs=20, batch_size=32, validation_data=(X_val, y_val - lin_reg.predict(X_val_flat)))\n",
        "\n",
        "# 6. Inference\n",
        "X_test_flat = X_test_full.reshape((X_test_full.shape[0], -1))\n",
        "linear_pred = lin_reg.predict(X_test_flat)\n",
        "gru_pred = gru_model.predict(X_test_full).reshape(-1)\n",
        "\n",
        "final_pred = linear_pred + gru_pred"
      ],
      "metadata": {
        "id": "c-ZdgbRrZrAG",
        "colab": {
          "base_uri": "https://localhost:8080/"
        },
        "outputId": "6996e8e4-0965-457e-ff02-f15dbabd21e5"
      },
      "execution_count": null,
      "outputs": [
        {
          "output_type": "stream",
          "name": "stdout",
          "text": [
            "Epoch 1/20\n",
            "\u001b[1m113/113\u001b[0m \u001b[32m━━━━━━━━━━━━━━━━━━━━\u001b[0m\u001b[37m\u001b[0m \u001b[1m29s\u001b[0m 196ms/step - loss: 8.2249e-05 - val_loss: 2.0780e-04\n",
            "Epoch 2/20\n",
            "\u001b[1m113/113\u001b[0m \u001b[32m━━━━━━━━━━━━━━━━━━━━\u001b[0m\u001b[37m\u001b[0m \u001b[1m39s\u001b[0m 178ms/step - loss: 3.7477e-05 - val_loss: 2.0568e-04\n",
            "Epoch 3/20\n",
            "\u001b[1m113/113\u001b[0m \u001b[32m━━━━━━━━━━━━━━━━━━━━\u001b[0m\u001b[37m\u001b[0m \u001b[1m21s\u001b[0m 189ms/step - loss: 3.5998e-05 - val_loss: 2.0618e-04\n",
            "Epoch 4/20\n",
            "\u001b[1m113/113\u001b[0m \u001b[32m━━━━━━━━━━━━━━━━━━━━\u001b[0m\u001b[37m\u001b[0m \u001b[1m41s\u001b[0m 189ms/step - loss: 3.7636e-05 - val_loss: 2.0663e-04\n",
            "Epoch 5/20\n",
            "\u001b[1m113/113\u001b[0m \u001b[32m━━━━━━━━━━━━━━━━━━━━\u001b[0m\u001b[37m\u001b[0m \u001b[1m40s\u001b[0m 185ms/step - loss: 3.5769e-05 - val_loss: 2.0644e-04\n",
            "Epoch 6/20\n",
            "\u001b[1m113/113\u001b[0m \u001b[32m━━━━━━━━━━━━━━━━━━━━\u001b[0m\u001b[37m\u001b[0m \u001b[1m42s\u001b[0m 193ms/step - loss: 3.9192e-05 - val_loss: 2.0734e-04\n",
            "Epoch 7/20\n",
            "\u001b[1m113/113\u001b[0m \u001b[32m━━━━━━━━━━━━━━━━━━━━\u001b[0m\u001b[37m\u001b[0m \u001b[1m41s\u001b[0m 191ms/step - loss: 3.5110e-05 - val_loss: 2.0648e-04\n",
            "Epoch 8/20\n",
            "\u001b[1m113/113\u001b[0m \u001b[32m━━━━━━━━━━━━━━━━━━━━\u001b[0m\u001b[37m\u001b[0m \u001b[1m40s\u001b[0m 180ms/step - loss: 3.6005e-05 - val_loss: 2.0815e-04\n",
            "Epoch 9/20\n",
            "\u001b[1m113/113\u001b[0m \u001b[32m━━━━━━━━━━━━━━━━━━━━\u001b[0m\u001b[37m\u001b[0m \u001b[1m23s\u001b[0m 207ms/step - loss: 3.7909e-05 - val_loss: 2.0592e-04\n",
            "Epoch 10/20\n",
            "\u001b[1m113/113\u001b[0m \u001b[32m━━━━━━━━━━━━━━━━━━━━\u001b[0m\u001b[37m\u001b[0m \u001b[1m38s\u001b[0m 181ms/step - loss: 3.4280e-05 - val_loss: 2.0616e-04\n",
            "Epoch 11/20\n",
            "\u001b[1m113/113\u001b[0m \u001b[32m━━━━━━━━━━━━━━━━━━━━\u001b[0m\u001b[37m\u001b[0m \u001b[1m43s\u001b[0m 198ms/step - loss: 3.7194e-05 - val_loss: 2.0618e-04\n",
            "Epoch 12/20\n",
            "\u001b[1m113/113\u001b[0m \u001b[32m━━━━━━━━━━━━━━━━━━━━\u001b[0m\u001b[37m\u001b[0m \u001b[1m40s\u001b[0m 191ms/step - loss: 3.2593e-05 - val_loss: 2.0620e-04\n",
            "Epoch 13/20\n",
            "\u001b[1m113/113\u001b[0m \u001b[32m━━━━━━━━━━━━━━━━━━━━\u001b[0m\u001b[37m\u001b[0m \u001b[1m39s\u001b[0m 176ms/step - loss: 3.6569e-05 - val_loss: 2.0637e-04\n",
            "Epoch 14/20\n",
            "\u001b[1m113/113\u001b[0m \u001b[32m━━━━━━━━━━━━━━━━━━━━\u001b[0m\u001b[37m\u001b[0m \u001b[1m21s\u001b[0m 189ms/step - loss: 3.2196e-05 - val_loss: 2.1019e-04\n",
            "Epoch 15/20\n",
            "\u001b[1m113/113\u001b[0m \u001b[32m━━━━━━━━━━━━━━━━━━━━\u001b[0m\u001b[37m\u001b[0m \u001b[1m20s\u001b[0m 176ms/step - loss: 3.5145e-05 - val_loss: 2.0777e-04\n",
            "Epoch 16/20\n",
            "\u001b[1m113/113\u001b[0m \u001b[32m━━━━━━━━━━━━━━━━━━━━\u001b[0m\u001b[37m\u001b[0m \u001b[1m22s\u001b[0m 192ms/step - loss: 3.4946e-05 - val_loss: 2.0737e-04\n",
            "Epoch 17/20\n",
            "\u001b[1m113/113\u001b[0m \u001b[32m━━━━━━━━━━━━━━━━━━━━\u001b[0m\u001b[37m\u001b[0m \u001b[1m39s\u001b[0m 178ms/step - loss: 3.2154e-05 - val_loss: 2.0757e-04\n",
            "Epoch 18/20\n",
            "\u001b[1m113/113\u001b[0m \u001b[32m━━━━━━━━━━━━━━━━━━━━\u001b[0m\u001b[37m\u001b[0m \u001b[1m22s\u001b[0m 193ms/step - loss: 3.1007e-05 - val_loss: 2.0722e-04\n",
            "Epoch 19/20\n",
            "\u001b[1m113/113\u001b[0m \u001b[32m━━━━━━━━━━━━━━━━━━━━\u001b[0m\u001b[37m\u001b[0m \u001b[1m41s\u001b[0m 193ms/step - loss: 3.6052e-05 - val_loss: 2.0651e-04\n",
            "Epoch 20/20\n",
            "\u001b[1m113/113\u001b[0m \u001b[32m━━━━━━━━━━━━━━━━━━━━\u001b[0m\u001b[37m\u001b[0m \u001b[1m39s\u001b[0m 180ms/step - loss: 3.6514e-05 - val_loss: 2.0681e-04\n",
            "\u001b[1m23/23\u001b[0m \u001b[32m━━━━━━━━━━━━━━━━━━━━\u001b[0m\u001b[37m\u001b[0m \u001b[1m2s\u001b[0m 80ms/step\n"
          ]
        }
      ]
    },
    {
      "cell_type": "code",
      "source": [
        "\n",
        "# 6. Inference\n",
        "linear_pred = lin_reg.predict(X_test_flat)\n",
        "gru_pred = gru_model.predict(X_test_full).reshape(-1)\n",
        "final_pred = linear_pred + gru_pred\n",
        "\n",
        "# 7. Validation predictions\n",
        "val_gru_pred = gru_model.predict(X_val).reshape(-1)\n",
        "val_linear_pred = lin_reg.predict(X_val_flat)\n",
        "val_final_pred = val_linear_pred + val_gru_pred\n",
        "\n",
        "# 8. Inverse transform if needed\n",
        "val_final_pred_inverse = target_scaler.inverse_transform(val_final_pred.reshape(-1, 1))\n",
        "y_val_inverse = target_scaler.inverse_transform(y_val.reshape(-1, 1))\n",
        "\n",
        "# 9. Plot actual vs predicted\n",
        "plt.figure(figsize=(12, 6))\n",
        "plt.plot(y_val_inverse, label='Actual Price')\n",
        "plt.plot(val_final_pred_inverse, label='Predicted Price')\n",
        "plt.title('Validation Set: Predicted vs Actual Stock Prices')\n",
        "plt.xlabel('Time Steps')\n",
        "plt.ylabel('Stock Price (EGP)')\n",
        "plt.legend()\n",
        "plt.grid(True)\n",
        "plt.tight_layout()\n",
        "plt.show()\n"
      ],
      "metadata": {
        "id": "X8UdszqdZ5LJ",
        "colab": {
          "base_uri": "https://localhost:8080/",
          "height": 604
        },
        "outputId": "bdc5c0bc-b9cb-40da-ddae-b8c2ed9e9d27"
      },
      "execution_count": null,
      "outputs": [
        {
          "output_type": "stream",
          "name": "stdout",
          "text": [
            "\u001b[1m23/23\u001b[0m \u001b[32m━━━━━━━━━━━━━━━━━━━━\u001b[0m\u001b[37m\u001b[0m \u001b[1m1s\u001b[0m 46ms/step\n",
            "\u001b[1m22/22\u001b[0m \u001b[32m━━━━━━━━━━━━━━━━━━━━\u001b[0m\u001b[37m\u001b[0m \u001b[1m1s\u001b[0m 44ms/step\n"
          ]
        },
        {
          "output_type": "display_data",
          "data": {
            "text/plain": [
              "<Figure size 1200x600 with 1 Axes>"
            ],
            "image/png": "[encoded data removed]"
          },
          "metadata": {}
        }
      ]
    },
    {
      "cell_type": "code",
      "source": [
        "from sklearn.metrics import mean_squared_error\n",
        "\n",
        "# Inverse transform for fair comparison (if scaled)\n",
        "y_train_inv = target_scaler.inverse_transform(y_train.reshape(-1, 1))\n",
        "y_train_pred_inv = target_scaler.inverse_transform((lin_reg.predict(X_train_flat) + gru_model.predict(X_train).reshape(-1)).reshape(-1, 1))\n",
        "\n",
        "y_val_inv = target_scaler.inverse_transform(y_val.reshape(-1, 1))\n",
        "y_val_pred_inv = val_final_pred_inverse\n",
        "\n",
        "print(\"Train RMSE:\", np.sqrt(mean_squared_error(y_train_inv, y_train_pred_inv)))\n",
        "print(\"Val RMSE:\", np.sqrt(mean_squared_error(y_val_inv, y_val_pred_inv)))\n"
      ],
      "metadata": {
        "colab": {
          "base_uri": "https://localhost:8080/"
        },
        "id": "DB5mvkzFgYaQ",
        "outputId": "acb0318b-9941-4a0c-c8d7-8135d7ba6e03"
      },
      "execution_count": null,
      "outputs": [
        {
          "output_type": "stream",
          "name": "stdout",
          "text": [
            "\u001b[1m113/113\u001b[0m \u001b[32m━━━━━━━━━━━━━━━━━━━━\u001b[0m\u001b[37m\u001b[0m \u001b[1m6s\u001b[0m 56ms/step\n",
            "Train RMSE: 0.2203237296395344\n",
            "Val RMSE: 0.530077023811518\n"
          ]
        }
      ]
    },
    {
      "cell_type": "code",
      "source": [
        "import pandas as pd\n",
        "final_pred2 =target_scaler.inverse_transform(final_pred.reshape(-1, 1))\n",
        "# Create a DataFrame for submission\n",
        "submission_df = pd.DataFrame({\n",
        "    'ID': test['ID'].values[:len(final_pred2)],\n",
        "    'Price': final_pred2.flatten()\n",
        "})\n",
        "\n",
        "# Save to CSV\n",
        "submission_df.to_csv('prediction11.csv', index=False)\n",
        "\n",
        "print(\"Predictions saved to predictions.csv\")\n"
      ],
      "metadata": {
        "colab": {
          "base_uri": "https://localhost:8080/"
        },
        "id": "_6wbVLoxTYtc",
        "outputId": "2fe07ccf-42a9-4af2-e126-6c3ae8798ac2"
      },
      "execution_count": null,
      "outputs": [
        {
          "output_type": "stream",
          "name": "stdout",
          "text": [
            "Predictions saved to predictions.csv\n"
          ]
        }
      ]
    }
  ]
}